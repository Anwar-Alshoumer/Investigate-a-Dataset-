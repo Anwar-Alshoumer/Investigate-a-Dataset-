{
 "cells": [
  {
   "cell_type": "markdown",
   "id": "d70295c7",
   "metadata": {},
   "source": [
    "# # Project: Investigate \"No-show appointments\" Dataset \n",
    "\n",
    "## Table of Contents\n",
    "<ul>\n",
    "<li><a href=\"#intro\">Introduction</a></li>\n",
    "<li><a href=\"#wrangling\">Data Wrangling</a></li>\n",
    "<li><a href=\"#eda\">Exploratory Data Analysis</a></li>\n",
    "<li><a href=\"#conclusions\">Conclusions</a></li>\n",
    "</ul>"
   ]
  },
  {
   "cell_type": "markdown",
   "id": "717e28d5",
   "metadata": {},
   "source": [
    "<a id='intro'></a>\n",
    "## Introduction\n",
    "\n",
    "> **Dataset**: In this project, I intend to invistigate \"No-show appointments\" dataset. This dataset collects information from 100k medical appointments in Brazil, and containing multiple features illustrated below: \n",
    "<li>PatientId: Patient file number.</li> \n",
    "<li>AppointmentID: Id of sceduled appointment.</li>\n",
    "<li>Gender: F for female, and M for male.</li>\n",
    "<li>ScheduledDay: The day patients book their appointments.</li>\n",
    "<li>AppointmentDay: Appointment date.</li> \n",
    "<li>Age: Patient age vary from 0 to 115 years.</li>\n",
    "<li>Neighbourhood: Indicates the location of hospital.</li>\n",
    "<li>Scholarship: Indicates whether or not the patient is enrolled in Brasilian welfare program. It's a binary feature where 0 means patient has no scholarship and 1 means the opposite.</li>\n",
    "<li>Hipertension: Indicates whether or not the patient has Hipertension.</li>\n",
    "<li>Diabetes: Indicates whether or not the patient has Diabetes.</li>\n",
    "<li>Alcoholism: Indicates whether or not the patient diagnosed with alcoholism.</li>\n",
    "<li>Handcap: Binary label in which 0 means patient has no handcap and 1 otherwise.</li>\n",
    "<li>SMS_received: Binary label in which 0 means patient doesn't receive SMS for the appointment and 1 if the patient receive the SMS.</li>\n",
    "<li>No-show: Containing two values \"Yes\" if the patient miss the appointment and \"No\" if the patient has attend the appointment.</li>\n",
    "\n",
    "The analysis of this data is based on which patients are more likely to attend their appointments.\n",
    "> **Question**: What are the factors that affecting the attendance of patients?\n",
    "> "
   ]
  },
  {
   "cell_type": "markdown",
   "id": "588f363b",
   "metadata": {},
   "source": [
    "First, import packages for manipulating data and visulization"
   ]
  },
  {
   "cell_type": "code",
   "execution_count": 159,
   "id": "fa3ea2c4",
   "metadata": {},
   "outputs": [],
   "source": [
    "#import packages\n",
    "import pandas as pd\n",
    "import numpy as np\n",
    "import matplotlib.pyplot as plt\n",
    "%matplotlib inline"
   ]
  },
  {
   "cell_type": "markdown",
   "id": "4da8933d",
   "metadata": {},
   "source": [
    "<a id='wrangling'></a>\n",
    "## Data Wrangling\n",
    "\n",
    "\n",
    "### General Properties"
   ]
  },
  {
   "cell_type": "code",
   "execution_count": 160,
   "id": "1b43279e",
   "metadata": {},
   "outputs": [
    {
     "data": {
      "text/html": [
       "<div>\n",
       "<style scoped>\n",
       "    .dataframe tbody tr th:only-of-type {\n",
       "        vertical-align: middle;\n",
       "    }\n",
       "\n",
       "    .dataframe tbody tr th {\n",
       "        vertical-align: top;\n",
       "    }\n",
       "\n",
       "    .dataframe thead th {\n",
       "        text-align: right;\n",
       "    }\n",
       "</style>\n",
       "<table border=\"1\" class=\"dataframe\">\n",
       "  <thead>\n",
       "    <tr style=\"text-align: right;\">\n",
       "      <th></th>\n",
       "      <th>PatientId</th>\n",
       "      <th>AppointmentID</th>\n",
       "      <th>Gender</th>\n",
       "      <th>ScheduledDay</th>\n",
       "      <th>AppointmentDay</th>\n",
       "      <th>Age</th>\n",
       "      <th>Neighbourhood</th>\n",
       "      <th>Scholarship</th>\n",
       "      <th>Hipertension</th>\n",
       "      <th>Diabetes</th>\n",
       "      <th>Alcoholism</th>\n",
       "      <th>Handcap</th>\n",
       "      <th>SMS_received</th>\n",
       "      <th>No-show</th>\n",
       "    </tr>\n",
       "  </thead>\n",
       "  <tbody>\n",
       "    <tr>\n",
       "      <th>0</th>\n",
       "      <td>2.987250e+13</td>\n",
       "      <td>5642903</td>\n",
       "      <td>F</td>\n",
       "      <td>2016-04-29T18:38:08Z</td>\n",
       "      <td>2016-04-29T00:00:00Z</td>\n",
       "      <td>62</td>\n",
       "      <td>JARDIM DA PENHA</td>\n",
       "      <td>0</td>\n",
       "      <td>1</td>\n",
       "      <td>0</td>\n",
       "      <td>0</td>\n",
       "      <td>0</td>\n",
       "      <td>0</td>\n",
       "      <td>No</td>\n",
       "    </tr>\n",
       "    <tr>\n",
       "      <th>1</th>\n",
       "      <td>5.589978e+14</td>\n",
       "      <td>5642503</td>\n",
       "      <td>M</td>\n",
       "      <td>2016-04-29T16:08:27Z</td>\n",
       "      <td>2016-04-29T00:00:00Z</td>\n",
       "      <td>56</td>\n",
       "      <td>JARDIM DA PENHA</td>\n",
       "      <td>0</td>\n",
       "      <td>0</td>\n",
       "      <td>0</td>\n",
       "      <td>0</td>\n",
       "      <td>0</td>\n",
       "      <td>0</td>\n",
       "      <td>No</td>\n",
       "    </tr>\n",
       "    <tr>\n",
       "      <th>2</th>\n",
       "      <td>4.262962e+12</td>\n",
       "      <td>5642549</td>\n",
       "      <td>F</td>\n",
       "      <td>2016-04-29T16:19:04Z</td>\n",
       "      <td>2016-04-29T00:00:00Z</td>\n",
       "      <td>62</td>\n",
       "      <td>MATA DA PRAIA</td>\n",
       "      <td>0</td>\n",
       "      <td>0</td>\n",
       "      <td>0</td>\n",
       "      <td>0</td>\n",
       "      <td>0</td>\n",
       "      <td>0</td>\n",
       "      <td>No</td>\n",
       "    </tr>\n",
       "    <tr>\n",
       "      <th>3</th>\n",
       "      <td>8.679512e+11</td>\n",
       "      <td>5642828</td>\n",
       "      <td>F</td>\n",
       "      <td>2016-04-29T17:29:31Z</td>\n",
       "      <td>2016-04-29T00:00:00Z</td>\n",
       "      <td>8</td>\n",
       "      <td>PONTAL DE CAMBURI</td>\n",
       "      <td>0</td>\n",
       "      <td>0</td>\n",
       "      <td>0</td>\n",
       "      <td>0</td>\n",
       "      <td>0</td>\n",
       "      <td>0</td>\n",
       "      <td>No</td>\n",
       "    </tr>\n",
       "    <tr>\n",
       "      <th>4</th>\n",
       "      <td>8.841186e+12</td>\n",
       "      <td>5642494</td>\n",
       "      <td>F</td>\n",
       "      <td>2016-04-29T16:07:23Z</td>\n",
       "      <td>2016-04-29T00:00:00Z</td>\n",
       "      <td>56</td>\n",
       "      <td>JARDIM DA PENHA</td>\n",
       "      <td>0</td>\n",
       "      <td>1</td>\n",
       "      <td>1</td>\n",
       "      <td>0</td>\n",
       "      <td>0</td>\n",
       "      <td>0</td>\n",
       "      <td>No</td>\n",
       "    </tr>\n",
       "  </tbody>\n",
       "</table>\n",
       "</div>"
      ],
      "text/plain": [
       "      PatientId  AppointmentID Gender          ScheduledDay  \\\n",
       "0  2.987250e+13        5642903      F  2016-04-29T18:38:08Z   \n",
       "1  5.589978e+14        5642503      M  2016-04-29T16:08:27Z   \n",
       "2  4.262962e+12        5642549      F  2016-04-29T16:19:04Z   \n",
       "3  8.679512e+11        5642828      F  2016-04-29T17:29:31Z   \n",
       "4  8.841186e+12        5642494      F  2016-04-29T16:07:23Z   \n",
       "\n",
       "         AppointmentDay  Age      Neighbourhood  Scholarship  Hipertension  \\\n",
       "0  2016-04-29T00:00:00Z   62    JARDIM DA PENHA            0             1   \n",
       "1  2016-04-29T00:00:00Z   56    JARDIM DA PENHA            0             0   \n",
       "2  2016-04-29T00:00:00Z   62      MATA DA PRAIA            0             0   \n",
       "3  2016-04-29T00:00:00Z    8  PONTAL DE CAMBURI            0             0   \n",
       "4  2016-04-29T00:00:00Z   56    JARDIM DA PENHA            0             1   \n",
       "\n",
       "   Diabetes  Alcoholism  Handcap  SMS_received No-show  \n",
       "0         0           0        0             0      No  \n",
       "1         0           0        0             0      No  \n",
       "2         0           0        0             0      No  \n",
       "3         0           0        0             0      No  \n",
       "4         1           0        0             0      No  "
      ]
     },
     "execution_count": 160,
     "metadata": {},
     "output_type": "execute_result"
    }
   ],
   "source": [
    "#Load data as csv file\n",
    "df = pd.read_csv('noshowappointments-may-2016.csv', engine='python')\n",
    "#print first five records\n",
    "df.head()"
   ]
  },
  {
   "cell_type": "markdown",
   "id": "12c5dc65",
   "metadata": {},
   "source": [
    "After loading the data, we want to take a quick look on the features, values count of each feature and their datatypes."
   ]
  },
  {
   "cell_type": "code",
   "execution_count": 161,
   "id": "cd25a96e",
   "metadata": {},
   "outputs": [
    {
     "name": "stdout",
     "output_type": "stream",
     "text": [
      "<class 'pandas.core.frame.DataFrame'>\n",
      "RangeIndex: 110527 entries, 0 to 110526\n",
      "Data columns (total 14 columns):\n",
      " #   Column          Non-Null Count   Dtype  \n",
      "---  ------          --------------   -----  \n",
      " 0   PatientId       110527 non-null  float64\n",
      " 1   AppointmentID   110527 non-null  int64  \n",
      " 2   Gender          110527 non-null  object \n",
      " 3   ScheduledDay    110527 non-null  object \n",
      " 4   AppointmentDay  110527 non-null  object \n",
      " 5   Age             110527 non-null  int64  \n",
      " 6   Neighbourhood   110527 non-null  object \n",
      " 7   Scholarship     110527 non-null  int64  \n",
      " 8   Hipertension    110527 non-null  int64  \n",
      " 9   Diabetes        110527 non-null  int64  \n",
      " 10  Alcoholism      110527 non-null  int64  \n",
      " 11  Handcap         110527 non-null  int64  \n",
      " 12  SMS_received    110527 non-null  int64  \n",
      " 13  No-show         110527 non-null  object \n",
      "dtypes: float64(1), int64(8), object(5)\n",
      "memory usage: 9.7+ MB\n"
     ]
    }
   ],
   "source": [
    "df.info()"
   ]
  },
  {
   "cell_type": "markdown",
   "id": "b4e94d19",
   "metadata": {},
   "source": [
    "The most common problem in collected data is missing values. So, below cell is to check whether the data has any missing values."
   ]
  },
  {
   "cell_type": "code",
   "execution_count": 162,
   "id": "6c98ab10",
   "metadata": {},
   "outputs": [
    {
     "data": {
      "text/plain": [
       "False"
      ]
     },
     "execution_count": 162,
     "metadata": {},
     "output_type": "execute_result"
    }
   ],
   "source": [
    "#check for any null values\n",
    "df.isnull().sum().any()\n"
   ]
  },
  {
   "cell_type": "markdown",
   "id": "c7f2412c",
   "metadata": {},
   "source": [
    "After that, we will check for duplicated records."
   ]
  },
  {
   "cell_type": "code",
   "execution_count": 163,
   "id": "d50942d3",
   "metadata": {},
   "outputs": [
    {
     "data": {
      "text/plain": [
       "0"
      ]
     },
     "execution_count": 163,
     "metadata": {},
     "output_type": "execute_result"
    }
   ],
   "source": [
    "#check for duplicated rows\n",
    "df.duplicated().sum()"
   ]
  },
  {
   "cell_type": "markdown",
   "id": "c5b61259",
   "metadata": {},
   "source": [
    "Check the number of unique values in each column"
   ]
  },
  {
   "cell_type": "code",
   "execution_count": 164,
   "id": "83208190",
   "metadata": {},
   "outputs": [
    {
     "data": {
      "text/plain": [
       "PatientId          62299\n",
       "AppointmentID     110527\n",
       "Gender                 2\n",
       "ScheduledDay      103549\n",
       "AppointmentDay        27\n",
       "Age                  104\n",
       "Neighbourhood         81\n",
       "Scholarship            2\n",
       "Hipertension           2\n",
       "Diabetes               2\n",
       "Alcoholism             2\n",
       "Handcap                5\n",
       "SMS_received           2\n",
       "No-show                2\n",
       "dtype: int64"
      ]
     },
     "execution_count": 164,
     "metadata": {},
     "output_type": "execute_result"
    }
   ],
   "source": [
    "df.nunique()"
   ]
  },
  {
   "cell_type": "markdown",
   "id": "a003db78",
   "metadata": {},
   "source": [
    "Now, let's check the value in each column."
   ]
  },
  {
   "cell_type": "code",
   "execution_count": 165,
   "id": "c98de698",
   "metadata": {},
   "outputs": [
    {
     "data": {
      "text/plain": [
       " 0      3539\n",
       " 1      2273\n",
       " 52     1746\n",
       " 49     1652\n",
       " 53     1651\n",
       "        ... \n",
       " 115       5\n",
       " 100       4\n",
       " 102       2\n",
       " 99        1\n",
       "-1         1\n",
       "Name: Age, Length: 104, dtype: int64"
      ]
     },
     "execution_count": 165,
     "metadata": {},
     "output_type": "execute_result"
    }
   ],
   "source": [
    "#check the values in \"Age\" column\n",
    "df.Age.value_counts()"
   ]
  },
  {
   "cell_type": "code",
   "execution_count": 166,
   "id": "121b59ce",
   "metadata": {},
   "outputs": [
    {
     "data": {
      "text/plain": [
       "0    99666\n",
       "1    10861\n",
       "Name: Scholarship, dtype: int64"
      ]
     },
     "execution_count": 166,
     "metadata": {},
     "output_type": "execute_result"
    }
   ],
   "source": [
    "#Check values of Scholarship column\n",
    "df.Scholarship.value_counts()"
   ]
  },
  {
   "cell_type": "code",
   "execution_count": 167,
   "id": "c9bbc8ee",
   "metadata": {},
   "outputs": [
    {
     "data": {
      "text/plain": [
       "0    108286\n",
       "1      2042\n",
       "2       183\n",
       "3        13\n",
       "4         3\n",
       "Name: Handcap, dtype: int64"
      ]
     },
     "execution_count": 167,
     "metadata": {},
     "output_type": "execute_result"
    }
   ],
   "source": [
    "#Check values of handcap column\n",
    "df.Handcap.value_counts()"
   ]
  },
  {
   "cell_type": "code",
   "execution_count": 168,
   "id": "f7d04d89",
   "metadata": {},
   "outputs": [
    {
     "data": {
      "text/plain": [
       "0    75045\n",
       "1    35482\n",
       "Name: SMS_received, dtype: int64"
      ]
     },
     "execution_count": 168,
     "metadata": {},
     "output_type": "execute_result"
    }
   ],
   "source": [
    "#Check values of SMS_ column\n",
    "df.SMS_received.value_counts()"
   ]
  },
  {
   "cell_type": "markdown",
   "id": "efc5ce87",
   "metadata": {},
   "source": [
    "### Now that we have done data wrangling, several observations are found which listed below:\n",
    "\n",
    "<li>There are no missing or duplicated values in this data</li>\n",
    "<li>For consistency, 'No-show' column should be renamed to be 'No_show'</li>\n",
    "<li>In 'Age' column, we found outlier value (-1)</li>\n",
    "<li>In 'Handcap' which is considered as a binary column, there are outliers values (2,3,4) </li>"
   ]
  },
  {
   "cell_type": "markdown",
   "id": "fe43f037",
   "metadata": {},
   "source": [
    "### Data Cleaning (cleaning columns and handling outliers)"
   ]
  },
  {
   "cell_type": "markdown",
   "id": "c6826abe",
   "metadata": {},
   "source": [
    "Before start cleaning the data, let's first drop the columns that we are not interested in."
   ]
  },
  {
   "cell_type": "code",
   "execution_count": 169,
   "id": "c054a630",
   "metadata": {},
   "outputs": [
    {
     "data": {
      "text/html": [
       "<div>\n",
       "<style scoped>\n",
       "    .dataframe tbody tr th:only-of-type {\n",
       "        vertical-align: middle;\n",
       "    }\n",
       "\n",
       "    .dataframe tbody tr th {\n",
       "        vertical-align: top;\n",
       "    }\n",
       "\n",
       "    .dataframe thead th {\n",
       "        text-align: right;\n",
       "    }\n",
       "</style>\n",
       "<table border=\"1\" class=\"dataframe\">\n",
       "  <thead>\n",
       "    <tr style=\"text-align: right;\">\n",
       "      <th></th>\n",
       "      <th>Age</th>\n",
       "      <th>Scholarship</th>\n",
       "      <th>Handcap</th>\n",
       "      <th>SMS_received</th>\n",
       "      <th>No-show</th>\n",
       "    </tr>\n",
       "  </thead>\n",
       "  <tbody>\n",
       "    <tr>\n",
       "      <th>0</th>\n",
       "      <td>62</td>\n",
       "      <td>0</td>\n",
       "      <td>0</td>\n",
       "      <td>0</td>\n",
       "      <td>No</td>\n",
       "    </tr>\n",
       "  </tbody>\n",
       "</table>\n",
       "</div>"
      ],
      "text/plain": [
       "   Age  Scholarship  Handcap  SMS_received No-show\n",
       "0   62            0        0             0      No"
      ]
     },
     "execution_count": 169,
     "metadata": {},
     "output_type": "execute_result"
    }
   ],
   "source": [
    "#drop column that will not be used\n",
    "labels = ['PatientId','AppointmentID','Gender','ScheduledDay','AppointmentDay','Neighbourhood','Hipertension','Diabetes','Alcoholism']\n",
    "for l in labels:\n",
    "    df.drop(l, axis=1, inplace=True)\n",
    "df.head(1)"
   ]
  },
  {
   "cell_type": "markdown",
   "id": "31cbc65e",
   "metadata": {},
   "source": [
    "1- Rename 'No-show' column"
   ]
  },
  {
   "cell_type": "code",
   "execution_count": 170,
   "id": "d15ef086",
   "metadata": {},
   "outputs": [
    {
     "data": {
      "text/html": [
       "<div>\n",
       "<style scoped>\n",
       "    .dataframe tbody tr th:only-of-type {\n",
       "        vertical-align: middle;\n",
       "    }\n",
       "\n",
       "    .dataframe tbody tr th {\n",
       "        vertical-align: top;\n",
       "    }\n",
       "\n",
       "    .dataframe thead th {\n",
       "        text-align: right;\n",
       "    }\n",
       "</style>\n",
       "<table border=\"1\" class=\"dataframe\">\n",
       "  <thead>\n",
       "    <tr style=\"text-align: right;\">\n",
       "      <th></th>\n",
       "      <th>Age</th>\n",
       "      <th>Scholarship</th>\n",
       "      <th>Handcap</th>\n",
       "      <th>SMS_received</th>\n",
       "      <th>No_show</th>\n",
       "    </tr>\n",
       "  </thead>\n",
       "  <tbody>\n",
       "    <tr>\n",
       "      <th>0</th>\n",
       "      <td>62</td>\n",
       "      <td>0</td>\n",
       "      <td>0</td>\n",
       "      <td>0</td>\n",
       "      <td>No</td>\n",
       "    </tr>\n",
       "  </tbody>\n",
       "</table>\n",
       "</div>"
      ],
      "text/plain": [
       "   Age  Scholarship  Handcap  SMS_received No_show\n",
       "0   62            0        0             0      No"
      ]
     },
     "execution_count": 170,
     "metadata": {},
     "output_type": "execute_result"
    }
   ],
   "source": [
    "#rename no show column to No_show\n",
    "df.rename(columns = {'No-show' : 'No_show'}, inplace =True)\n",
    "df.head(1)"
   ]
  },
  {
   "cell_type": "code",
   "execution_count": 171,
   "id": "e3995c9d",
   "metadata": {},
   "outputs": [
    {
     "data": {
      "text/plain": [
       "(110527, 5)"
      ]
     },
     "execution_count": 171,
     "metadata": {},
     "output_type": "execute_result"
    }
   ],
   "source": [
    "#check the tuple of data after dropping columns\n",
    "df.shape"
   ]
  },
  {
   "cell_type": "markdown",
   "id": "cb893469",
   "metadata": {},
   "source": [
    "2- Remove outlier value (-1) from 'Age' column. Since it's only one row, we can just drop the row with outlier value."
   ]
  },
  {
   "cell_type": "code",
   "execution_count": 172,
   "id": "e8dd1873",
   "metadata": {},
   "outputs": [
    {
     "data": {
      "text/plain": [
       "[99832]"
      ]
     },
     "execution_count": 172,
     "metadata": {},
     "output_type": "execute_result"
    }
   ],
   "source": [
    "#Find the row index of value (-1)\n",
    "out = df.index[df['Age'] == -1].tolist()\n",
    "out"
   ]
  },
  {
   "cell_type": "code",
   "execution_count": 173,
   "id": "19d8473c",
   "metadata": {},
   "outputs": [],
   "source": [
    "#Removing outlier using its index\n",
    "df.drop(axis=0,index = out, inplace=True)"
   ]
  },
  {
   "cell_type": "code",
   "execution_count": 174,
   "id": "560a7c37",
   "metadata": {},
   "outputs": [
    {
     "data": {
      "text/plain": [
       "[]"
      ]
     },
     "execution_count": 174,
     "metadata": {},
     "output_type": "execute_result"
    }
   ],
   "source": [
    "#check if the value (-1) is removed\n",
    "df.index[df['Age'] == -1].tolist()"
   ]
  },
  {
   "cell_type": "markdown",
   "id": "8f4fffcf",
   "metadata": {},
   "source": [
    "3- Remove values (2,3,4) from 'Handcap' column"
   ]
  },
  {
   "cell_type": "code",
   "execution_count": 175,
   "id": "932375f5",
   "metadata": {},
   "outputs": [
    {
     "data": {
      "text/plain": [
       "[[946,\n",
       "  1665,\n",
       "  1666,\n",
       "  2071,\n",
       "  2091,\n",
       "  2213,\n",
       "  2673,\n",
       "  5424,\n",
       "  5467,\n",
       "  5475,\n",
       "  5485,\n",
       "  5510,\n",
       "  6067,\n",
       "  6156,\n",
       "  6401,\n",
       "  11227,\n",
       "  11230,\n",
       "  14847,\n",
       "  15839,\n",
       "  15845,\n",
       "  16632,\n",
       "  16634,\n",
       "  16635,\n",
       "  16636,\n",
       "  17862,\n",
       "  18241,\n",
       "  19264,\n",
       "  19915,\n",
       "  19981,\n",
       "  19987,\n",
       "  20695,\n",
       "  20805,\n",
       "  22003,\n",
       "  22051,\n",
       "  22093,\n",
       "  22163,\n",
       "  22167,\n",
       "  23085,\n",
       "  23616,\n",
       "  23720,\n",
       "  24143,\n",
       "  25975,\n",
       "  26686,\n",
       "  26728,\n",
       "  27225,\n",
       "  27284,\n",
       "  28518,\n",
       "  28854,\n",
       "  28967,\n",
       "  30168,\n",
       "  30221,\n",
       "  30356,\n",
       "  32416,\n",
       "  32692,\n",
       "  32745,\n",
       "  34742,\n",
       "  34797,\n",
       "  34900,\n",
       "  35108,\n",
       "  36070,\n",
       "  36698,\n",
       "  40252,\n",
       "  41494,\n",
       "  41696,\n",
       "  41697,\n",
       "  41698,\n",
       "  41699,\n",
       "  41984,\n",
       "  41995,\n",
       "  42969,\n",
       "  42978,\n",
       "  42987,\n",
       "  44364,\n",
       "  46395,\n",
       "  46581,\n",
       "  46583,\n",
       "  46624,\n",
       "  46665,\n",
       "  47344,\n",
       "  47477,\n",
       "  48437,\n",
       "  48849,\n",
       "  48961,\n",
       "  49724,\n",
       "  52207,\n",
       "  52977,\n",
       "  52978,\n",
       "  55161,\n",
       "  55772,\n",
       "  55812,\n",
       "  57646,\n",
       "  58422,\n",
       "  59205,\n",
       "  59403,\n",
       "  60636,\n",
       "  60647,\n",
       "  60849,\n",
       "  60851,\n",
       "  60855,\n",
       "  60858,\n",
       "  61046,\n",
       "  61063,\n",
       "  61314,\n",
       "  65573,\n",
       "  65907,\n",
       "  66043,\n",
       "  68228,\n",
       "  69239,\n",
       "  69278,\n",
       "  69312,\n",
       "  69918,\n",
       "  69934,\n",
       "  69979,\n",
       "  70968,\n",
       "  70995,\n",
       "  71106,\n",
       "  71527,\n",
       "  71660,\n",
       "  72279,\n",
       "  75115,\n",
       "  75672,\n",
       "  75698,\n",
       "  76152,\n",
       "  76547,\n",
       "  76851,\n",
       "  76854,\n",
       "  76864,\n",
       "  76875,\n",
       "  76881,\n",
       "  77515,\n",
       "  77657,\n",
       "  78240,\n",
       "  78488,\n",
       "  79717,\n",
       "  79724,\n",
       "  79888,\n",
       "  80941,\n",
       "  81012,\n",
       "  81054,\n",
       "  81093,\n",
       "  81994,\n",
       "  82774,\n",
       "  82778,\n",
       "  82971,\n",
       "  83318,\n",
       "  84296,\n",
       "  84884,\n",
       "  87273,\n",
       "  87381,\n",
       "  87643,\n",
       "  87688,\n",
       "  89048,\n",
       "  89209,\n",
       "  89253,\n",
       "  89260,\n",
       "  89271,\n",
       "  93642,\n",
       "  94503,\n",
       "  96173,\n",
       "  96457,\n",
       "  96831,\n",
       "  97998,\n",
       "  98045,\n",
       "  99455,\n",
       "  100538,\n",
       "  101074,\n",
       "  101911,\n",
       "  101912,\n",
       "  101913,\n",
       "  101949,\n",
       "  102276,\n",
       "  102360,\n",
       "  102955,\n",
       "  105008,\n",
       "  105073,\n",
       "  105322,\n",
       "  105753,\n",
       "  108335,\n",
       "  108376,\n",
       "  109484,\n",
       "  109733,\n",
       "  109975,\n",
       "  110107],\n",
       " [2214,\n",
       "  22014,\n",
       "  28840,\n",
       "  28892,\n",
       "  44686,\n",
       "  69683,\n",
       "  69781,\n",
       "  71457,\n",
       "  78644,\n",
       "  81320,\n",
       "  104927,\n",
       "  104931,\n",
       "  104932],\n",
       " [91820, 98538, 104268]]"
      ]
     },
     "execution_count": 175,
     "metadata": {},
     "output_type": "execute_result"
    }
   ],
   "source": [
    "#Retrieving indices of outlier values\n",
    "out_hand = [2,3,4]\n",
    "ind=[]\n",
    "for n in out_hand:\n",
    "    ind.append(df.index[df['Handcap'] == n ].tolist())\n",
    "    \n",
    "ind   "
   ]
  },
  {
   "cell_type": "code",
   "execution_count": 176,
   "id": "2160755f",
   "metadata": {},
   "outputs": [
    {
     "name": "stderr",
     "output_type": "stream",
     "text": [
      "<ipython-input-176-a798889ce69d>:2: VisibleDeprecationWarning: Creating an ndarray from ragged nested sequences (which is a list-or-tuple of lists-or-tuples-or ndarrays with different lengths or shapes) is deprecated. If you meant to do this, you must specify 'dtype=object' when creating the ndarray\n",
      "  ind1 = np.array(ind)\n"
     ]
    }
   ],
   "source": [
    "#Saving multidimentional array using np.array\n",
    "ind1 = np.array(ind)\n"
   ]
  },
  {
   "cell_type": "code",
   "execution_count": 177,
   "id": "7eeb85e2",
   "metadata": {},
   "outputs": [],
   "source": [
    "#function to remove outlier values from Handcap col.\n",
    "def remov_out(x):\n",
    "    df.drop(axis=0,index = x, inplace=True)\n",
    "    return df"
   ]
  },
  {
   "cell_type": "code",
   "execution_count": 178,
   "id": "5a04103f",
   "metadata": {},
   "outputs": [
    {
     "data": {
      "text/html": [
       "<div>\n",
       "<style scoped>\n",
       "    .dataframe tbody tr th:only-of-type {\n",
       "        vertical-align: middle;\n",
       "    }\n",
       "\n",
       "    .dataframe tbody tr th {\n",
       "        vertical-align: top;\n",
       "    }\n",
       "\n",
       "    .dataframe thead th {\n",
       "        text-align: right;\n",
       "    }\n",
       "</style>\n",
       "<table border=\"1\" class=\"dataframe\">\n",
       "  <thead>\n",
       "    <tr style=\"text-align: right;\">\n",
       "      <th></th>\n",
       "      <th>Age</th>\n",
       "      <th>Scholarship</th>\n",
       "      <th>Handcap</th>\n",
       "      <th>SMS_received</th>\n",
       "      <th>No_show</th>\n",
       "    </tr>\n",
       "  </thead>\n",
       "  <tbody>\n",
       "    <tr>\n",
       "      <th>0</th>\n",
       "      <td>62</td>\n",
       "      <td>0</td>\n",
       "      <td>0</td>\n",
       "      <td>0</td>\n",
       "      <td>No</td>\n",
       "    </tr>\n",
       "    <tr>\n",
       "      <th>1</th>\n",
       "      <td>56</td>\n",
       "      <td>0</td>\n",
       "      <td>0</td>\n",
       "      <td>0</td>\n",
       "      <td>No</td>\n",
       "    </tr>\n",
       "    <tr>\n",
       "      <th>2</th>\n",
       "      <td>62</td>\n",
       "      <td>0</td>\n",
       "      <td>0</td>\n",
       "      <td>0</td>\n",
       "      <td>No</td>\n",
       "    </tr>\n",
       "    <tr>\n",
       "      <th>3</th>\n",
       "      <td>8</td>\n",
       "      <td>0</td>\n",
       "      <td>0</td>\n",
       "      <td>0</td>\n",
       "      <td>No</td>\n",
       "    </tr>\n",
       "    <tr>\n",
       "      <th>4</th>\n",
       "      <td>56</td>\n",
       "      <td>0</td>\n",
       "      <td>0</td>\n",
       "      <td>0</td>\n",
       "      <td>No</td>\n",
       "    </tr>\n",
       "    <tr>\n",
       "      <th>...</th>\n",
       "      <td>...</td>\n",
       "      <td>...</td>\n",
       "      <td>...</td>\n",
       "      <td>...</td>\n",
       "      <td>...</td>\n",
       "    </tr>\n",
       "    <tr>\n",
       "      <th>110522</th>\n",
       "      <td>56</td>\n",
       "      <td>0</td>\n",
       "      <td>0</td>\n",
       "      <td>1</td>\n",
       "      <td>No</td>\n",
       "    </tr>\n",
       "    <tr>\n",
       "      <th>110523</th>\n",
       "      <td>51</td>\n",
       "      <td>0</td>\n",
       "      <td>0</td>\n",
       "      <td>1</td>\n",
       "      <td>No</td>\n",
       "    </tr>\n",
       "    <tr>\n",
       "      <th>110524</th>\n",
       "      <td>21</td>\n",
       "      <td>0</td>\n",
       "      <td>0</td>\n",
       "      <td>1</td>\n",
       "      <td>No</td>\n",
       "    </tr>\n",
       "    <tr>\n",
       "      <th>110525</th>\n",
       "      <td>38</td>\n",
       "      <td>0</td>\n",
       "      <td>0</td>\n",
       "      <td>1</td>\n",
       "      <td>No</td>\n",
       "    </tr>\n",
       "    <tr>\n",
       "      <th>110526</th>\n",
       "      <td>54</td>\n",
       "      <td>0</td>\n",
       "      <td>0</td>\n",
       "      <td>1</td>\n",
       "      <td>No</td>\n",
       "    </tr>\n",
       "  </tbody>\n",
       "</table>\n",
       "<p>110343 rows × 5 columns</p>\n",
       "</div>"
      ],
      "text/plain": [
       "        Age  Scholarship  Handcap  SMS_received No_show\n",
       "0        62            0        0             0      No\n",
       "1        56            0        0             0      No\n",
       "2        62            0        0             0      No\n",
       "3         8            0        0             0      No\n",
       "4        56            0        0             0      No\n",
       "...     ...          ...      ...           ...     ...\n",
       "110522   56            0        0             1      No\n",
       "110523   51            0        0             1      No\n",
       "110524   21            0        0             1      No\n",
       "110525   38            0        0             1      No\n",
       "110526   54            0        0             1      No\n",
       "\n",
       "[110343 rows x 5 columns]"
      ]
     },
     "execution_count": 178,
     "metadata": {},
     "output_type": "execute_result"
    }
   ],
   "source": [
    "#Removing outlier (2) using its index in the array\n",
    "remov_out(ind1[0])"
   ]
  },
  {
   "cell_type": "code",
   "execution_count": 179,
   "id": "a2f68350",
   "metadata": {},
   "outputs": [
    {
     "data": {
      "text/html": [
       "<div>\n",
       "<style scoped>\n",
       "    .dataframe tbody tr th:only-of-type {\n",
       "        vertical-align: middle;\n",
       "    }\n",
       "\n",
       "    .dataframe tbody tr th {\n",
       "        vertical-align: top;\n",
       "    }\n",
       "\n",
       "    .dataframe thead th {\n",
       "        text-align: right;\n",
       "    }\n",
       "</style>\n",
       "<table border=\"1\" class=\"dataframe\">\n",
       "  <thead>\n",
       "    <tr style=\"text-align: right;\">\n",
       "      <th></th>\n",
       "      <th>Age</th>\n",
       "      <th>Scholarship</th>\n",
       "      <th>Handcap</th>\n",
       "      <th>SMS_received</th>\n",
       "      <th>No_show</th>\n",
       "    </tr>\n",
       "  </thead>\n",
       "  <tbody>\n",
       "    <tr>\n",
       "      <th>0</th>\n",
       "      <td>62</td>\n",
       "      <td>0</td>\n",
       "      <td>0</td>\n",
       "      <td>0</td>\n",
       "      <td>No</td>\n",
       "    </tr>\n",
       "    <tr>\n",
       "      <th>1</th>\n",
       "      <td>56</td>\n",
       "      <td>0</td>\n",
       "      <td>0</td>\n",
       "      <td>0</td>\n",
       "      <td>No</td>\n",
       "    </tr>\n",
       "    <tr>\n",
       "      <th>2</th>\n",
       "      <td>62</td>\n",
       "      <td>0</td>\n",
       "      <td>0</td>\n",
       "      <td>0</td>\n",
       "      <td>No</td>\n",
       "    </tr>\n",
       "    <tr>\n",
       "      <th>3</th>\n",
       "      <td>8</td>\n",
       "      <td>0</td>\n",
       "      <td>0</td>\n",
       "      <td>0</td>\n",
       "      <td>No</td>\n",
       "    </tr>\n",
       "    <tr>\n",
       "      <th>4</th>\n",
       "      <td>56</td>\n",
       "      <td>0</td>\n",
       "      <td>0</td>\n",
       "      <td>0</td>\n",
       "      <td>No</td>\n",
       "    </tr>\n",
       "    <tr>\n",
       "      <th>...</th>\n",
       "      <td>...</td>\n",
       "      <td>...</td>\n",
       "      <td>...</td>\n",
       "      <td>...</td>\n",
       "      <td>...</td>\n",
       "    </tr>\n",
       "    <tr>\n",
       "      <th>110522</th>\n",
       "      <td>56</td>\n",
       "      <td>0</td>\n",
       "      <td>0</td>\n",
       "      <td>1</td>\n",
       "      <td>No</td>\n",
       "    </tr>\n",
       "    <tr>\n",
       "      <th>110523</th>\n",
       "      <td>51</td>\n",
       "      <td>0</td>\n",
       "      <td>0</td>\n",
       "      <td>1</td>\n",
       "      <td>No</td>\n",
       "    </tr>\n",
       "    <tr>\n",
       "      <th>110524</th>\n",
       "      <td>21</td>\n",
       "      <td>0</td>\n",
       "      <td>0</td>\n",
       "      <td>1</td>\n",
       "      <td>No</td>\n",
       "    </tr>\n",
       "    <tr>\n",
       "      <th>110525</th>\n",
       "      <td>38</td>\n",
       "      <td>0</td>\n",
       "      <td>0</td>\n",
       "      <td>1</td>\n",
       "      <td>No</td>\n",
       "    </tr>\n",
       "    <tr>\n",
       "      <th>110526</th>\n",
       "      <td>54</td>\n",
       "      <td>0</td>\n",
       "      <td>0</td>\n",
       "      <td>1</td>\n",
       "      <td>No</td>\n",
       "    </tr>\n",
       "  </tbody>\n",
       "</table>\n",
       "<p>110330 rows × 5 columns</p>\n",
       "</div>"
      ],
      "text/plain": [
       "        Age  Scholarship  Handcap  SMS_received No_show\n",
       "0        62            0        0             0      No\n",
       "1        56            0        0             0      No\n",
       "2        62            0        0             0      No\n",
       "3         8            0        0             0      No\n",
       "4        56            0        0             0      No\n",
       "...     ...          ...      ...           ...     ...\n",
       "110522   56            0        0             1      No\n",
       "110523   51            0        0             1      No\n",
       "110524   21            0        0             1      No\n",
       "110525   38            0        0             1      No\n",
       "110526   54            0        0             1      No\n",
       "\n",
       "[110330 rows x 5 columns]"
      ]
     },
     "execution_count": 179,
     "metadata": {},
     "output_type": "execute_result"
    }
   ],
   "source": [
    "#Removing outlier (3) using its index in the array\n",
    "remov_out(ind1[1])"
   ]
  },
  {
   "cell_type": "code",
   "execution_count": 180,
   "id": "6619e7a3",
   "metadata": {},
   "outputs": [
    {
     "data": {
      "text/html": [
       "<div>\n",
       "<style scoped>\n",
       "    .dataframe tbody tr th:only-of-type {\n",
       "        vertical-align: middle;\n",
       "    }\n",
       "\n",
       "    .dataframe tbody tr th {\n",
       "        vertical-align: top;\n",
       "    }\n",
       "\n",
       "    .dataframe thead th {\n",
       "        text-align: right;\n",
       "    }\n",
       "</style>\n",
       "<table border=\"1\" class=\"dataframe\">\n",
       "  <thead>\n",
       "    <tr style=\"text-align: right;\">\n",
       "      <th></th>\n",
       "      <th>Age</th>\n",
       "      <th>Scholarship</th>\n",
       "      <th>Handcap</th>\n",
       "      <th>SMS_received</th>\n",
       "      <th>No_show</th>\n",
       "    </tr>\n",
       "  </thead>\n",
       "  <tbody>\n",
       "    <tr>\n",
       "      <th>0</th>\n",
       "      <td>62</td>\n",
       "      <td>0</td>\n",
       "      <td>0</td>\n",
       "      <td>0</td>\n",
       "      <td>No</td>\n",
       "    </tr>\n",
       "    <tr>\n",
       "      <th>1</th>\n",
       "      <td>56</td>\n",
       "      <td>0</td>\n",
       "      <td>0</td>\n",
       "      <td>0</td>\n",
       "      <td>No</td>\n",
       "    </tr>\n",
       "    <tr>\n",
       "      <th>2</th>\n",
       "      <td>62</td>\n",
       "      <td>0</td>\n",
       "      <td>0</td>\n",
       "      <td>0</td>\n",
       "      <td>No</td>\n",
       "    </tr>\n",
       "    <tr>\n",
       "      <th>3</th>\n",
       "      <td>8</td>\n",
       "      <td>0</td>\n",
       "      <td>0</td>\n",
       "      <td>0</td>\n",
       "      <td>No</td>\n",
       "    </tr>\n",
       "    <tr>\n",
       "      <th>4</th>\n",
       "      <td>56</td>\n",
       "      <td>0</td>\n",
       "      <td>0</td>\n",
       "      <td>0</td>\n",
       "      <td>No</td>\n",
       "    </tr>\n",
       "    <tr>\n",
       "      <th>...</th>\n",
       "      <td>...</td>\n",
       "      <td>...</td>\n",
       "      <td>...</td>\n",
       "      <td>...</td>\n",
       "      <td>...</td>\n",
       "    </tr>\n",
       "    <tr>\n",
       "      <th>110522</th>\n",
       "      <td>56</td>\n",
       "      <td>0</td>\n",
       "      <td>0</td>\n",
       "      <td>1</td>\n",
       "      <td>No</td>\n",
       "    </tr>\n",
       "    <tr>\n",
       "      <th>110523</th>\n",
       "      <td>51</td>\n",
       "      <td>0</td>\n",
       "      <td>0</td>\n",
       "      <td>1</td>\n",
       "      <td>No</td>\n",
       "    </tr>\n",
       "    <tr>\n",
       "      <th>110524</th>\n",
       "      <td>21</td>\n",
       "      <td>0</td>\n",
       "      <td>0</td>\n",
       "      <td>1</td>\n",
       "      <td>No</td>\n",
       "    </tr>\n",
       "    <tr>\n",
       "      <th>110525</th>\n",
       "      <td>38</td>\n",
       "      <td>0</td>\n",
       "      <td>0</td>\n",
       "      <td>1</td>\n",
       "      <td>No</td>\n",
       "    </tr>\n",
       "    <tr>\n",
       "      <th>110526</th>\n",
       "      <td>54</td>\n",
       "      <td>0</td>\n",
       "      <td>0</td>\n",
       "      <td>1</td>\n",
       "      <td>No</td>\n",
       "    </tr>\n",
       "  </tbody>\n",
       "</table>\n",
       "<p>110327 rows × 5 columns</p>\n",
       "</div>"
      ],
      "text/plain": [
       "        Age  Scholarship  Handcap  SMS_received No_show\n",
       "0        62            0        0             0      No\n",
       "1        56            0        0             0      No\n",
       "2        62            0        0             0      No\n",
       "3         8            0        0             0      No\n",
       "4        56            0        0             0      No\n",
       "...     ...          ...      ...           ...     ...\n",
       "110522   56            0        0             1      No\n",
       "110523   51            0        0             1      No\n",
       "110524   21            0        0             1      No\n",
       "110525   38            0        0             1      No\n",
       "110526   54            0        0             1      No\n",
       "\n",
       "[110327 rows x 5 columns]"
      ]
     },
     "execution_count": 180,
     "metadata": {},
     "output_type": "execute_result"
    }
   ],
   "source": [
    "#Removing outlier (4) using its index in the array\n",
    "remov_out(ind1[2])"
   ]
  },
  {
   "cell_type": "code",
   "execution_count": 181,
   "id": "b309ae05",
   "metadata": {},
   "outputs": [
    {
     "data": {
      "text/plain": [
       "0    108285\n",
       "1      2042\n",
       "Name: Handcap, dtype: int64"
      ]
     },
     "execution_count": 181,
     "metadata": {},
     "output_type": "execute_result"
    }
   ],
   "source": [
    "#Check 'Handcap' values after removing the outliers\n",
    "df.Handcap.value_counts()"
   ]
  },
  {
   "cell_type": "code",
   "execution_count": 182,
   "id": "3a38d0fb",
   "metadata": {},
   "outputs": [],
   "source": [
    "#Save the updated file \n",
    "df.to_csv('Updated_appointments_Noshow11.csv')"
   ]
  },
  {
   "cell_type": "markdown",
   "id": "30a433cf",
   "metadata": {},
   "source": [
    "Check data tuple after cleaning the data"
   ]
  },
  {
   "cell_type": "code",
   "execution_count": 183,
   "id": "2375527f",
   "metadata": {},
   "outputs": [
    {
     "data": {
      "text/plain": [
       "(110327, 5)"
      ]
     },
     "execution_count": 183,
     "metadata": {},
     "output_type": "execute_result"
    }
   ],
   "source": [
    "df.shape"
   ]
  },
  {
   "cell_type": "markdown",
   "id": "7d401d59",
   "metadata": {},
   "source": [
    "<a id='eda'></a>\n",
    "## Exploratory Data Analysis\n",
    "\n",
    "\n",
    "### What major factors that are affecting the attendance of the patients?"
   ]
  },
  {
   "cell_type": "markdown",
   "id": "2e21b5ef",
   "metadata": {},
   "source": [
    "**Data Filtering**"
   ]
  },
  {
   "cell_type": "markdown",
   "id": "f4ec98ff",
   "metadata": {},
   "source": [
    "In data filtering, we will seperate no show patients from other patients in order to assess each group with other variable seperately."
   ]
  },
  {
   "cell_type": "code",
   "execution_count": 184,
   "id": "86392ccd",
   "metadata": {},
   "outputs": [],
   "source": [
    "#Selecting records with \"Yes\" value in No_show column\n",
    "df_yes = df.query('No_show == \"Yes\"')"
   ]
  },
  {
   "cell_type": "code",
   "execution_count": 185,
   "id": "e6635519",
   "metadata": {},
   "outputs": [],
   "source": [
    "#Selecting \"No\" records for No_show\n",
    "df_no = df.query('No_show == \"No\"')"
   ]
  },
  {
   "cell_type": "markdown",
   "id": "f587b84e",
   "metadata": {},
   "source": [
    "**Exploring Data**"
   ]
  },
  {
   "cell_type": "markdown",
   "id": "04c35163",
   "metadata": {},
   "source": [
    "In this section, we will check the association of each independent variables(Age, Scholarship, Handcap, SMS_received) with the dependent variable (No_show)"
   ]
  },
  {
   "cell_type": "markdown",
   "id": "6b6c838d",
   "metadata": {},
   "source": [
    "Age:"
   ]
  },
  {
   "cell_type": "markdown",
   "id": "c5b11a1c",
   "metadata": {},
   "source": [
    "Use Scatter graph to see the ages of patient who attend and those who skip their appointments."
   ]
  },
  {
   "cell_type": "code",
   "execution_count": 186,
   "id": "02cd4e7d",
   "metadata": {},
   "outputs": [
    {
     "data": {
      "image/png": "[encoded data removed]",
      "text/plain": [
       "<Figure size 432x288 with 1 Axes>"
      ]
     },
     "metadata": {
      "needs_background": "light"
     },
     "output_type": "display_data"
    }
   ],
   "source": [
    "df.plot(x='No_show', y='Age', kind='scatter');\n",
    "plt.title('Ages of Showed and No Show Patients');"
   ]
  },
  {
   "cell_type": "markdown",
   "id": "0cc6f22b",
   "metadata": {},
   "source": [
    "See the distribution of ages for patients who showed and those who skipped their appointments."
   ]
  },
  {
   "cell_type": "code",
   "execution_count": 187,
   "id": "2752a81c",
   "metadata": {},
   "outputs": [
    {
     "data": {
      "image/png": "[encoded data removed]",
      "text/plain": [
       "<Figure size 432x288 with 1 Axes>"
      ]
     },
     "metadata": {
      "needs_background": "light"
     },
     "output_type": "display_data"
    }
   ],
   "source": [
    "plt.hist(df_yes.Age, facecolor='r', alpha=0.5,label='no show');\n",
    "plt.hist(df_no.Age, facecolor='b', alpha=0.5,label='showed');\n",
    "plt.xlabel('Age')\n",
    "plt.ylabel('Patients Count')\n",
    "plt.title('Ages of Patients who showed and No show to the appointments')\n",
    "plt.legend();"
   ]
  },
  {
   "cell_type": "markdown",
   "id": "890a9bde",
   "metadata": {},
   "source": [
    "Scholarship:"
   ]
  },
  {
   "cell_type": "markdown",
   "id": "0128883e",
   "metadata": {},
   "source": [
    "Check the scholarship status of \"no show\" patients"
   ]
  },
  {
   "cell_type": "code",
   "execution_count": 188,
   "id": "4abc0a4e",
   "metadata": {},
   "outputs": [
    {
     "data": {
      "image/png": "[encoded data removed]",
      "text/plain": [
       "<Figure size 432x288 with 1 Axes>"
      ]
     },
     "metadata": {
      "needs_background": "light"
     },
     "output_type": "display_data"
    }
   ],
   "source": [
    "df_yes.Scholarship.value_counts().plot(kind='bar');\n",
    "plt.xlabel('Scholarship Status')\n",
    "plt.ylabel('Patients Count')\n",
    "plt.title('Scholarship Status for No show Patients')\n",
    "plt.legend();"
   ]
  },
  {
   "cell_type": "markdown",
   "id": "a3e4b237",
   "metadata": {},
   "source": [
    "Check the scholarship status of \"showed\" patients."
   ]
  },
  {
   "cell_type": "code",
   "execution_count": 189,
   "id": "96a85d2d",
   "metadata": {},
   "outputs": [
    {
     "data": {
      "image/png": "[encoded data removed]",
      "text/plain": [
       "<Figure size 432x288 with 1 Axes>"
      ]
     },
     "metadata": {
      "needs_background": "light"
     },
     "output_type": "display_data"
    }
   ],
   "source": [
    "df_no.Scholarship.value_counts().plot(kind='bar');\n",
    "plt.xlabel('Scholarship Status')\n",
    "plt.ylabel('Patients Count')\n",
    "plt.title('Scholarship Status for Showed Patients')\n",
    "plt.legend();"
   ]
  },
  {
   "cell_type": "markdown",
   "id": "908f0b06",
   "metadata": {},
   "source": [
    "Now let's combine both groups (Showed and no show) in order to compare the attendance based on the scholarship."
   ]
  },
  {
   "cell_type": "code",
   "execution_count": 190,
   "id": "230d4682",
   "metadata": {},
   "outputs": [
    {
     "data": {
      "image/png": "[encoded data removed]",
      "text/plain": [
       "<Figure size 576x432 with 1 Axes>"
      ]
     },
     "metadata": {
      "needs_background": "light"
     },
     "output_type": "display_data"
    }
   ],
   "source": [
    "#Visualize attaendance of patients based on whether or not patient has a scholarship\n",
    "fig, ax = plt.subplots(figsize=(8,6))\n",
    "ax.hist(df_yes.Scholarship, alpha = 0.5 ,label= 'Yes')\n",
    "ax.hist(df_no.Scholarship, alpha = 0.5, label= 'No')\n",
    "ax.set_title('Patient Attendance based on Scholarship')\n",
    "ax.set_xlabel('Scholarship')\n",
    "ax.set_ylabel('Count')\n",
    "ax.legend(loc='upper right')\n",
    "plt.show()"
   ]
  },
  {
   "cell_type": "markdown",
   "id": "0949a7b8",
   "metadata": {},
   "source": [
    "Handcap:"
   ]
  },
  {
   "cell_type": "markdown",
   "id": "7b1e49ff",
   "metadata": {},
   "source": [
    "In below chart, we combine both groups (Showed and no show patients) to compare their attendance based on the handicap condition."
   ]
  },
  {
   "cell_type": "code",
   "execution_count": 191,
   "id": "5e896cdd",
   "metadata": {},
   "outputs": [
    {
     "data": {
      "image/png": "[encoded data removed]",
      "text/plain": [
       "<Figure size 576x432 with 1 Axes>"
      ]
     },
     "metadata": {
      "needs_background": "light"
     },
     "output_type": "display_data"
    }
   ],
   "source": [
    "#Visualize attaendance of patients with handicap\n",
    "fig, ax = plt.subplots(figsize=(8,6))\n",
    "ax.hist(df_yes.Handcap, alpha = 0.5 ,label= 'Yes')\n",
    "ax.hist(df_no.Handcap, alpha = 0.5, label= 'No')\n",
    "ax.set_title('Patient Attendance based on Handcap')\n",
    "ax.set_xlabel('Handcap')\n",
    "ax.set_ylabel('Count')\n",
    "ax.legend(loc='upper right')\n",
    "plt.show()"
   ]
  },
  {
   "cell_type": "markdown",
   "id": "ea7d825b",
   "metadata": {},
   "source": [
    "SMS_recieved:"
   ]
  },
  {
   "cell_type": "markdown",
   "id": "6fae7ce1",
   "metadata": {},
   "source": [
    "Below char is represent the relationship between patient attendance and whether they receiving SMS regarding the appointment."
   ]
  },
  {
   "cell_type": "code",
   "execution_count": 192,
   "id": "ac473214",
   "metadata": {},
   "outputs": [
    {
     "data": {
      "image/png": "[encoded data removed]",
      "text/plain": [
       "<Figure size 576x432 with 1 Axes>"
      ]
     },
     "metadata": {
      "needs_background": "light"
     },
     "output_type": "display_data"
    }
   ],
   "source": [
    "#Visualize attaendance of patients based on whether patient received an SMS\n",
    "fig, ax = plt.subplots(figsize=(8,6))\n",
    "ax.hist(df_yes.SMS_received, alpha = 0.5 ,label= 'Yes')\n",
    "ax.hist(df_no.SMS_received, alpha = 0.5, label= 'No')\n",
    "ax.set_title('Patient Attendance based on receiving SMS')\n",
    "ax.set_xlabel('SMS_received')\n",
    "ax.set_ylabel('Count')\n",
    "ax.legend(loc='upper right')\n",
    "plt.show()"
   ]
  }
 ],
 "metadata": {
  "kernelspec": {
   "display_name": "Python 3",
   "language": "python",
   "name": "python3"
  },
  "language_info": {
   "codemirror_mode": {
    "name": "ipython",
    "version": 3
   },
   "file_extension": ".py",
   "mimetype": "text/x-python",
   "name": "python",
   "nbconvert_exporter": "python",
   "pygments_lexer": "ipython3",
   "version": "3.8.8"
  }
 },
 "nbformat": 4,
 "nbformat_minor": 5
}
